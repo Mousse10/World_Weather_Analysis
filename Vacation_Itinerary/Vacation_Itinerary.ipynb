{
 "cells": [
  {
   "cell_type": "markdown",
   "metadata": {},
   "source": [
    "## Deliverable 3. Create a Travel Itinerary Map."
   ]
  },
  {
   "cell_type": "code",
   "execution_count": 1,
   "metadata": {},
   "outputs": [],
   "source": [
    "# Dependencies and Setup\n",
    "import pandas as pd\n",
    "import requests\n",
    "import gmaps\n",
    "\n",
    "# Import API key\n",
    "from config import g_key\n",
    "\n",
    "# Configure gmaps\n",
    "gmaps.configure(api_key=g_key)"
   ]
  },
  {
   "cell_type": "code",
   "execution_count": 3,
   "metadata": {},
   "outputs": [
    {
     "data": {
      "text/html": [
       "<div>\n",
       "<style scoped>\n",
       "    .dataframe tbody tr th:only-of-type {\n",
       "        vertical-align: middle;\n",
       "    }\n",
       "\n",
       "    .dataframe tbody tr th {\n",
       "        vertical-align: top;\n",
       "    }\n",
       "\n",
       "    .dataframe thead th {\n",
       "        text-align: right;\n",
       "    }\n",
       "</style>\n",
       "<table border=\"1\" class=\"dataframe\">\n",
       "  <thead>\n",
       "    <tr style=\"text-align: right;\">\n",
       "      <th></th>\n",
       "      <th>City_ID</th>\n",
       "      <th>City</th>\n",
       "      <th>Country</th>\n",
       "      <th>Max Temp</th>\n",
       "      <th>Current Description</th>\n",
       "      <th>Lat</th>\n",
       "      <th>Lng</th>\n",
       "      <th>Hotel Name</th>\n",
       "    </tr>\n",
       "  </thead>\n",
       "  <tbody>\n",
       "    <tr>\n",
       "      <th>0</th>\n",
       "      <td>8</td>\n",
       "      <td>Hilo</td>\n",
       "      <td>US</td>\n",
       "      <td>84.27</td>\n",
       "      <td>clear sky</td>\n",
       "      <td>19.7297</td>\n",
       "      <td>-155.0900</td>\n",
       "      <td>Hilo Hawaiian Hotel</td>\n",
       "    </tr>\n",
       "    <tr>\n",
       "      <th>1</th>\n",
       "      <td>9</td>\n",
       "      <td>Bundaberg</td>\n",
       "      <td>AU</td>\n",
       "      <td>77.29</td>\n",
       "      <td>scattered clouds</td>\n",
       "      <td>-24.8500</td>\n",
       "      <td>152.3500</td>\n",
       "      <td>Takalvan Motel</td>\n",
       "    </tr>\n",
       "    <tr>\n",
       "      <th>2</th>\n",
       "      <td>19</td>\n",
       "      <td>Vanimo</td>\n",
       "      <td>PG</td>\n",
       "      <td>78.66</td>\n",
       "      <td>overcast clouds</td>\n",
       "      <td>-2.6741</td>\n",
       "      <td>141.3028</td>\n",
       "      <td>Vahmoneh Lodge Vanimo</td>\n",
       "    </tr>\n",
       "    <tr>\n",
       "      <th>3</th>\n",
       "      <td>20</td>\n",
       "      <td>Puerto Carreno</td>\n",
       "      <td>CO</td>\n",
       "      <td>76.24</td>\n",
       "      <td>overcast clouds</td>\n",
       "      <td>6.1890</td>\n",
       "      <td>-67.4859</td>\n",
       "      <td>Casa Hotel Victoria</td>\n",
       "    </tr>\n",
       "    <tr>\n",
       "      <th>4</th>\n",
       "      <td>25</td>\n",
       "      <td>Butaritari</td>\n",
       "      <td>KI</td>\n",
       "      <td>82.63</td>\n",
       "      <td>light rain</td>\n",
       "      <td>3.0707</td>\n",
       "      <td>172.7902</td>\n",
       "      <td>Isles Sunset Lodge</td>\n",
       "    </tr>\n",
       "  </tbody>\n",
       "</table>\n",
       "</div>"
      ],
      "text/plain": [
       "   City_ID            City Country  Max Temp Current Description      Lat  \\\n",
       "0        8            Hilo      US     84.27           clear sky  19.7297   \n",
       "1        9       Bundaberg      AU     77.29    scattered clouds -24.8500   \n",
       "2       19          Vanimo      PG     78.66     overcast clouds  -2.6741   \n",
       "3       20  Puerto Carreno      CO     76.24     overcast clouds   6.1890   \n",
       "4       25      Butaritari      KI     82.63          light rain   3.0707   \n",
       "\n",
       "        Lng             Hotel Name  \n",
       "0 -155.0900    Hilo Hawaiian Hotel  \n",
       "1  152.3500         Takalvan Motel  \n",
       "2  141.3028  Vahmoneh Lodge Vanimo  \n",
       "3  -67.4859    Casa Hotel Victoria  \n",
       "4  172.7902     Isles Sunset Lodge  "
      ]
     },
     "execution_count": 3,
     "metadata": {},
     "output_type": "execute_result"
    }
   ],
   "source": [
    "# 1. Read the WeatherPy_vacation.csv into a DataFrame.\n",
    "vacation_df = pd.read_csv(\"../Vacation_Search/WeatherPy_vacation.csv\")\n",
    "vacation_df.head()"
   ]
  },
  {
   "cell_type": "code",
   "execution_count": 4,
   "metadata": {},
   "outputs": [],
   "source": [
    "# 2. Using the template add the city name, the country code, the weather description and maximum temperature for the city.\n",
    "info_box_template = \"\"\"\n",
    "<dl>\n",
    "<dt>Hotel Name</dt><dd>{Hotel Name}</dd>\n",
    "<dt>City</dt><dd>{City}</dd>\n",
    "<dt>Country</dt><dd>{Country}</dd>\n",
    "<dt>Current Weather</dt><dd>{Current Description} and {Max Temp} °F</dd>\n",
    "</dl>\n",
    "\"\"\"\n",
    "\n",
    "# 3a. Get the data from each row and add it to the formatting template and store the data in a list.\n",
    "vacation_info = [info_box_template.format(**row) for index, row in vacation_df.iterrows()]\n",
    "\n",
    "# 3b. Get the latitude and longitude from each row and store in a new DataFrame.\n",
    "locations = vacation_df[[\"Lat\", \"Lng\"]]"
   ]
  },
  {
   "cell_type": "code",
   "execution_count": 5,
   "metadata": {},
   "outputs": [
    {
     "data": {
      "application/vnd.jupyter.widget-view+json": {
       "model_id": "bc2a619801b04c3d8afa362bebd21af5",
       "version_major": 2,
       "version_minor": 0
      },
      "text/plain": [
       "Figure(layout=FigureLayout(height='420px'))"
      ]
     },
     "metadata": {},
     "output_type": "display_data"
    }
   ],
   "source": [
    "# 4a. Add a marker layer for each city to the map.\n",
    "fig = gmaps.figure(center=(30.0, 31.0), zoom_level=1.5)\n",
    "marker_layer = gmaps.marker_layer(locations, info_box_content=vacation_info)\n",
    "fig.add_layer(marker_layer)\n",
    "# 4b. Display the figure\n",
    "fig"
   ]
  },
  {
   "cell_type": "code",
   "execution_count": 10,
   "metadata": {},
   "outputs": [],
   "source": [
    "# From the map above pick 4 cities and create a vacation itinerary route to travel between the four cities. \n",
    "# 5. Create DataFrames for each city by filtering the 'vacation_df' using the loc method. \n",
    "# Hint: The starting and ending city should be the same city.\n",
    "\n",
    "vacation_start = vacation_df.loc[vacation_df[\"City\"]==\"Winnemucca\"]\n",
    "vacation_end = vacation_df.loc[vacation_df[\"City\"]==\"Winnemucca\"]\n",
    "vacation_stop1 = vacation_df.loc[vacation_df[\"City\"]==\"Lompoc\"]\n",
    "vacation_stop2 = vacation_df.loc[vacation_df[\"City\"]==\"Dumas\"]\n",
    "vacation_stop3 = vacation_df.loc[vacation_df[\"City\"]==\"Hays\"]"
   ]
  },
  {
   "cell_type": "code",
   "execution_count": 11,
   "metadata": {},
   "outputs": [],
   "source": [
    "# 6. Get the latitude-longitude pairs as tuples from each city DataFrame using the to_numpy function and list indexing.\n",
    "start = tuple(map(tuple,(vacation_start[['Lat', 'Lng']].to_numpy())))[0]\n",
    "end = tuple(map(tuple,(vacation_end[[\"Lat\", \"Lng\"]].to_numpy())))[0]\n",
    "stop1 = tuple(map(tuple,(vacation_stop1[[\"Lat\", \"Lng\"]].to_numpy())))[0]\n",
    "stop2 =  tuple(map(tuple,(vacation_stop2[[\"Lat\", \"Lng\"]].to_numpy())))[0]\n",
    "stop3 = tuple(map(tuple,(vacation_stop3[[\"Lat\", \"Lng\"]].to_numpy())))[0]"
   ]
  },
  {
   "cell_type": "code",
   "execution_count": 12,
   "metadata": {
    "scrolled": true
   },
   "outputs": [
    {
     "data": {
      "application/vnd.jupyter.widget-view+json": {
       "model_id": "5f8123e8339742adb57dd56b545f4a73",
       "version_major": 2,
       "version_minor": 0
      },
      "text/plain": [
       "Figure(layout=FigureLayout(height='420px'))"
      ]
     },
     "metadata": {},
     "output_type": "display_data"
    }
   ],
   "source": [
    "# 7. Create a direction layer map using the start and end latitude-longitude pairs,\n",
    "# and stop1, stop2, and stop3 as the waypoints. The travel_mode should be \"DRIVING\", \"BICYCLING\", or \"WALKING\".\n",
    "import gmaps.datasets\n",
    "fig = gmaps.figure()\n",
    "start2end = gmaps.directions_layer(start, end, waypoints=[stop1,stop2,stop3],travel_mode='DRIVING')\n",
    "fig.add_layer(start2end)\n",
    "fig"
   ]
  },
  {
   "cell_type": "code",
   "execution_count": 13,
   "metadata": {},
   "outputs": [
    {
     "data": {
      "text/html": [
       "<div>\n",
       "<style scoped>\n",
       "    .dataframe tbody tr th:only-of-type {\n",
       "        vertical-align: middle;\n",
       "    }\n",
       "\n",
       "    .dataframe tbody tr th {\n",
       "        vertical-align: top;\n",
       "    }\n",
       "\n",
       "    .dataframe thead th {\n",
       "        text-align: right;\n",
       "    }\n",
       "</style>\n",
       "<table border=\"1\" class=\"dataframe\">\n",
       "  <thead>\n",
       "    <tr style=\"text-align: right;\">\n",
       "      <th></th>\n",
       "      <th>City_ID</th>\n",
       "      <th>City</th>\n",
       "      <th>Country</th>\n",
       "      <th>Max Temp</th>\n",
       "      <th>Current Description</th>\n",
       "      <th>Lat</th>\n",
       "      <th>Lng</th>\n",
       "      <th>Hotel Name</th>\n",
       "    </tr>\n",
       "  </thead>\n",
       "  <tbody>\n",
       "    <tr>\n",
       "      <th>0</th>\n",
       "      <td>671</td>\n",
       "      <td>Winnemucca</td>\n",
       "      <td>US</td>\n",
       "      <td>75.25</td>\n",
       "      <td>clear sky</td>\n",
       "      <td>40.9730</td>\n",
       "      <td>-117.7357</td>\n",
       "      <td>Winners Inn Casino</td>\n",
       "    </tr>\n",
       "    <tr>\n",
       "      <th>1</th>\n",
       "      <td>475</td>\n",
       "      <td>Lompoc</td>\n",
       "      <td>US</td>\n",
       "      <td>77.11</td>\n",
       "      <td>clear sky</td>\n",
       "      <td>34.6391</td>\n",
       "      <td>-120.4579</td>\n",
       "      <td>Holiday Inn Express Lompoc, an IHG Hotel</td>\n",
       "    </tr>\n",
       "    <tr>\n",
       "      <th>2</th>\n",
       "      <td>481</td>\n",
       "      <td>Dumas</td>\n",
       "      <td>US</td>\n",
       "      <td>78.22</td>\n",
       "      <td>clear sky</td>\n",
       "      <td>35.8656</td>\n",
       "      <td>-101.9732</td>\n",
       "      <td>Holiday Inn Express &amp; Suites Dumas, an IHG Hotel</td>\n",
       "    </tr>\n",
       "    <tr>\n",
       "      <th>3</th>\n",
       "      <td>562</td>\n",
       "      <td>Hays</td>\n",
       "      <td>US</td>\n",
       "      <td>78.85</td>\n",
       "      <td>overcast clouds</td>\n",
       "      <td>30.0502</td>\n",
       "      <td>-98.0336</td>\n",
       "      <td>Sinya on Lone Man Creek</td>\n",
       "    </tr>\n",
       "  </tbody>\n",
       "</table>\n",
       "</div>"
      ],
      "text/plain": [
       "   City_ID        City Country  Max Temp Current Description      Lat  \\\n",
       "0      671  Winnemucca      US     75.25           clear sky  40.9730   \n",
       "1      475      Lompoc      US     77.11           clear sky  34.6391   \n",
       "2      481       Dumas      US     78.22           clear sky  35.8656   \n",
       "3      562        Hays      US     78.85     overcast clouds  30.0502   \n",
       "\n",
       "        Lng                                        Hotel Name  \n",
       "0 -117.7357                                Winners Inn Casino  \n",
       "1 -120.4579          Holiday Inn Express Lompoc, an IHG Hotel  \n",
       "2 -101.9732  Holiday Inn Express & Suites Dumas, an IHG Hotel  \n",
       "3  -98.0336                           Sinya on Lone Man Creek  "
      ]
     },
     "execution_count": 13,
     "metadata": {},
     "output_type": "execute_result"
    }
   ],
   "source": [
    "# 8. To create a marker layer map between the four cities.\n",
    "#  Combine the four city DataFrames into one DataFrame using the concat() function.\n",
    "itinerary_df = pd.concat([vacation_start,\n",
    "                          vacation_stop1,\n",
    "                          vacation_stop2,\n",
    "                          vacation_stop3],ignore_index=True)\n",
    "itinerary_df"
   ]
  },
  {
   "cell_type": "code",
   "execution_count": 14,
   "metadata": {},
   "outputs": [],
   "source": [
    "# 9 Using the template add city name, the country code, the weather description and maximum temperature for the city. \n",
    "info_box_template = \"\"\"\n",
    "<dl>\n",
    "<dt>Hotel Name</dt><dd>{Hotel Name}</dd>\n",
    "<dt>City</dt><dd>{City}</dd>\n",
    "<dt>Country</dt><dd>{Country}</dd>\n",
    "<dt>Current Weather</dt><dd>{Current Description} and {Max Temp} °F</dd>\n",
    "</dl>\n",
    "\"\"\"\n",
    "\n",
    "# 10a Get the data from each row and add it to the formatting template and store the data in a list.\n",
    "itinerary_info = [info_box_template.format(**row) for index, row in itinerary_df.iterrows()]\n",
    "\n",
    "# 10b. Get the latitude and longitude from each row and store in a new DataFrame.\n",
    "locations = itinerary_df[[\"Lat\", \"Lng\"]]"
   ]
  },
  {
   "cell_type": "code",
   "execution_count": 15,
   "metadata": {},
   "outputs": [
    {
     "data": {
      "application/vnd.jupyter.widget-view+json": {
       "model_id": "5908265d2521454cb2d5a798d35df324",
       "version_major": 2,
       "version_minor": 0
      },
      "text/plain": [
       "Figure(layout=FigureLayout(height='420px'))"
      ]
     },
     "metadata": {},
     "output_type": "display_data"
    }
   ],
   "source": [
    "# 11a. Add a marker layer for each city to the map.\n",
    "fig = gmaps.figure(center=(30.0, 31.0), zoom_level=1.5)\n",
    "marker_layer = gmaps.marker_layer(locations, info_box_content=itinerary_info)\n",
    "fig.add_layer(marker_layer)\n",
    "# 11b. Display the figure\n",
    "fig"
   ]
  },
  {
   "cell_type": "code",
   "execution_count": null,
   "metadata": {},
   "outputs": [],
   "source": []
  }
 ],
 "metadata": {
  "kernelspec": {
   "display_name": "PythonData",
   "language": "python",
   "name": "pythondata"
  },
  "language_info": {
   "codemirror_mode": {
    "name": "ipython",
    "version": 3
   },
   "file_extension": ".py",
   "mimetype": "text/x-python",
   "name": "python",
   "nbconvert_exporter": "python",
   "pygments_lexer": "ipython3",
   "version": "3.7.10"
  },
  "latex_envs": {
   "LaTeX_envs_menu_present": true,
   "autoclose": false,
   "autocomplete": true,
   "bibliofile": "biblio.bib",
   "cite_by": "apalike",
   "current_citInitial": 1,
   "eqLabelWithNumbers": true,
   "eqNumInitial": 1,
   "hotkeys": {
    "equation": "Ctrl-E",
    "itemize": "Ctrl-I"
   },
   "labels_anchors": false,
   "latex_user_defs": false,
   "report_style_numbering": false,
   "user_envs_cfg": false
  }
 },
 "nbformat": 4,
 "nbformat_minor": 2
}
